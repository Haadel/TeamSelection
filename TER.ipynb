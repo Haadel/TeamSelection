{
 "cells": [
  {
   "cell_type": "code",
   "execution_count": null,
   "id": "7551970d-8769-4ee9-ae59-89e043155a13",
   "metadata": {},
   "outputs": [],
   "source": [
    "import numpy as np\n",
    "\n",
    "def create_population(pop_size, n, m):\n",
    "    population = []\n",
    "    for _ in range(pop_size):\n",
    "        individual = np.random.randint(2, size=(n, m))\n",
    "        population.append(individual)\n",
    "    return population\n"
   ]
  },
  {
   "cell_type": "code",
   "execution_count": null,
   "id": "995f3403-14fe-461c-9c00-2255ee552ee3",
   "metadata": {},
   "outputs": [],
   "source": [
    "def fitness(individual):\n",
    "    # Exemple de fonction de fitness : somme des valeurs dans la matrice\n",
    "    return np.sum(individual)\n"
   ]
  },
  {
   "cell_type": "code",
   "execution_count": null,
   "id": "e92980c1-cff3-4ac7-94f6-33628c1a8794",
   "metadata": {},
   "outputs": [],
   "source": [
    "def select_parents(population, num_parents):\n",
    "    parents = []\n",
    "    for _ in range(num_parents):\n",
    "        # Sélection aléatoire d'individus\n",
    "        selected = np.random.choice(len(population))\n",
    "        parents.append(population[selected])\n",
    "    return parents\n",
    "\n",
    "def crossover(parents, offspring_size):\n",
    "    offspring = []\n",
    "    for _ in range(offspring_size):\n",
    "        # Sélection aléatoire de deux parents\n",
    "        parent1_idx, parent2_idx = np.random.choice(len(parents), size=2, replace=False)\n",
    "        parent1 = parents[parent1_idx]\n",
    "        parent2 = parents[parent2_idx]\n",
    "        # Point de croisement\n",
    "        crossover_point = np.random.randint(1, len(parent1))\n",
    "        # Création de l'enfant\n",
    "        child = np.vstack((parent1[:crossover_point], parent2[crossover_point:]))\n",
    "        offspring.append(child)\n",
    "    return offspring\n",
    "\n",
    "def mutate(offspring, mutation_rate):\n",
    "    for i in range(len(offspring)):\n",
    "        if np.random.random() < mutation_rate:\n",
    "            # Mutation aléatoire\n",
    "            mutation_point = np.random.randint(0, len(offspring[i]))\n",
    "            offspring[i][mutation_point] = 1 - offspring[i][mutation_point]\n",
    "    return offspring\n"
   ]
  },
  {
   "cell_type": "code",
   "execution_count": null,
   "id": "14dbd7f9-9478-4053-baa3-6498ebd7be73",
   "metadata": {},
   "outputs": [],
   "source": [
    "def genetic_algorithm(pop_size, n, m, num_generations, num_parents, mutation_rate):\n",
    "    population = create_population(pop_size, n, m)\n",
    "    for generation in range(num_generations):\n",
    "        # Calcul de la fitness pour chaque individu\n",
    "        fitness_values = [fitness(individual) for individual in population]\n",
    "        \n",
    "        # Sélection des meilleurs parents\n",
    "        parents = select_parents(population, num_parents)\n",
    "        \n",
    "        # Croisement\n",
    "        offspring = crossover(parents, pop_size - num_parents)\n",
    "        \n",
    "        # Mutation\n",
    "        offspring = mutate(offspring, mutation_rate)\n",
    "        \n",
    "        # Remplacement de la population par les enfants\n",
    "        population = parents + offspring\n",
    "        \n",
    "        # Affichage de la meilleure fitness dans cette génération\n",
    "        print(\"Génération {}: Meilleure fitness = {}\".format(generation+1, max(fitness_values)))\n",
    "\n",
    "    # Retourne la meilleure solution trouvée\n",
    "    return population[np.argmax(fitness_values)]\n",
    "\n",
    "# Exemple d'utilisation\n",
    "best_solution = genetic_algorithm(pop_size=100, n=5, m=10, num_generations=20, num_parents=20, mutation_rate=0.1)\n",
    "print(\"Meilleure solution trouvée :\")\n",
    "print(best_solution)\n"
   ]
  },
  {
   "cell_type": "code",
   "execution_count": 1,
   "id": "d993889f-7b4c-46f2-98e5-1ff5df7f3155",
   "metadata": {},
   "outputs": [
    {
     "name": "stdout",
     "output_type": "stream",
     "text": [
      "Génération 1: Meilleure fitness = -8908\n",
      "Génération 2: Meilleure fitness = -2988\n",
      "Génération 3: Meilleure fitness = -508\n",
      "Génération 4: Meilleure fitness = -508\n",
      "Génération 5: Meilleure fitness = 0\n",
      "Génération 6: Meilleure fitness = 0\n",
      "Génération 7: Meilleure fitness = 0\n",
      "Génération 8: Meilleure fitness = 0\n",
      "Génération 9: Meilleure fitness = 0\n",
      "Génération 10: Meilleure fitness = 0\n",
      "Génération 11: Meilleure fitness = 0\n",
      "Génération 12: Meilleure fitness = 0\n",
      "Génération 13: Meilleure fitness = 0\n",
      "Génération 14: Meilleure fitness = 0\n",
      "Génération 15: Meilleure fitness = 0\n",
      "Génération 16: Meilleure fitness = 0\n",
      "Génération 17: Meilleure fitness = 0\n",
      "Génération 18: Meilleure fitness = 0\n",
      "Génération 19: Meilleure fitness = 0\n",
      "Génération 20: Meilleure fitness = 0\n",
      "Meilleure partition trouvée :\n",
      "[[0 0 0 0]\n",
      " [0 0 0 0]\n",
      " [0 0 0 0]\n",
      " [0 0 0 0]]\n"
     ]
    }
   ],
   "source": [
    "import numpy as np\n",
    "\n",
    "# Définition de l'ensemble de base\n",
    "base_set = np.array([[1, 2, 3, 4],\n",
    "                     [5, 6, 7, 8],\n",
    "                     [9, 10, 11, 12],\n",
    "                     [13, 14, 15, 16]])\n",
    "\n",
    "def create_population(pop_size, n, m):\n",
    "    population = []\n",
    "    for _ in range(pop_size):\n",
    "        individual = np.random.randint(2, size=(n, m))\n",
    "        population.append(individual)\n",
    "    return population\n",
    "\n",
    "def fitness(partition):\n",
    "    # Exemple de fonction de fitness : maximiser la similarité intra-groupe et minimiser la similarité inter-groupe\n",
    "    \n",
    "    # Calcul des sommes pour chaque groupe\n",
    "    group_sums = np.sum(partition * base_set[:, :, np.newaxis], axis=1)\n",
    "    \n",
    "    \n",
    "    # Plus la similarité intra-groupe est grande et la similarité inter-groupe est petite, meilleure est la partition\n",
    "    return intra_group_similarity - inter_group_similarity\n",
    "\n",
    "def select_parents(population, num_parents):\n",
    "    # Sélection des parents basée sur la fitness\n",
    "    fitness_values = [fitness(individual) for individual in population]\n",
    "    selected_parents_indices = np.argsort(fitness_values)[-num_parents:]\n",
    "    return [population[i] for i in selected_parents_indices]\n",
    "\n",
    "def crossover(parents, offspring_size):\n",
    "    offspring = []\n",
    "    for _ in range(offspring_size):\n",
    "        parent1_idx, parent2_idx = np.random.choice(len(parents), size=2, replace=False)\n",
    "        parent1 = parents[parent1_idx]\n",
    "        parent2 = parents[parent2_idx]\n",
    "        crossover_point = np.random.randint(1, len(parent1))\n",
    "        child = np.vstack((parent1[:crossover_point], parent2[crossover_point:]))\n",
    "        offspring.append(child)\n",
    "    return offspring\n",
    "\n",
    "def mutate(offspring, mutation_rate):\n",
    "    for i in range(len(offspring)):\n",
    "        if np.random.random() < mutation_rate:\n",
    "            mutation_point = np.random.randint(0, len(offspring[i]))\n",
    "            offspring[i][mutation_point] = 1 - offspring[i][mutation_point]\n",
    "    return offspring\n",
    "\n",
    "def genetic_algorithm(pop_size, n, m, num_generations, num_parents, mutation_rate):\n",
    "    population = create_population(pop_size, n, m)\n",
    "    for generation in range(num_generations):\n",
    "        fitness_values = [fitness(individual) for individual in population]\n",
    "        parents = select_parents(population, num_parents)\n",
    "        offspring = crossover(parents, pop_size - num_parents)\n",
    "        offspring = mutate(offspring, mutation_rate)\n",
    "        population = parents + offspring\n",
    "        print(\"Génération {}: Meilleure fitness = {}\".format(generation+1, max(fitness_values)))\n",
    "    return population[np.argmax(fitness_values)]\n",
    "\n",
    "best_partition = genetic_algorithm(pop_size=100, n=4, m=4, num_generations=20, num_parents=20, mutation_rate=0.1)\n",
    "print(\"Meilleure partition trouvée :\")\n",
    "print(best_partition)\n"
   ]
  },
  {
   "cell_type": "code",
   "execution_count": 38,
   "id": "c1507844-9463-4f58-b1bd-7ebfe9ef9a00",
   "metadata": {},
   "outputs": [
    {
     "name": "stdout",
     "output_type": "stream",
     "text": [
      "Génération 1: Meilleure fitness = -14296\n",
      "Génération 2: Meilleure fitness = -3416\n",
      "Génération 3: Meilleure fitness = -2752\n",
      "Génération 4: Meilleure fitness = -508\n",
      "Génération 5: Meilleure fitness = -508\n",
      "Génération 6: Meilleure fitness = -508\n",
      "Génération 7: Meilleure fitness = -508\n",
      "Génération 8: Meilleure fitness = -508\n",
      "Génération 9: Meilleure fitness = -508\n",
      "Génération 10: Meilleure fitness = -508\n",
      "Génération 11: Meilleure fitness = -508\n",
      "Génération 12: Meilleure fitness = -508\n",
      "Génération 13: Meilleure fitness = -508\n",
      "Génération 14: Meilleure fitness = -508\n",
      "Génération 15: Meilleure fitness = -508\n",
      "Génération 16: Meilleure fitness = -508\n",
      "Génération 17: Meilleure fitness = -508\n",
      "Génération 18: Meilleure fitness = -508\n",
      "Génération 19: Meilleure fitness = -508\n",
      "Génération 20: Meilleure fitness = -508\n",
      "Meilleure partition trouvée :\n",
      "[[0 0 1 0]\n",
      " [0 0 0 0]\n",
      " [0 0 0 0]\n",
      " [0 0 0 0]]\n"
     ]
    }
   ],
   "source": [
    "import numpy as np\n",
    "\n",
    "# Définition du nombre de caractéristiques par candidat\n",
    "num_features = 10\n",
    "\n",
    "\n",
    "\n",
    "def fitness(partition):\n",
    "   \n",
    "\n",
    "def select_parents(population, num_parents):\n",
    "    # Sélection des parents basée sur la fitness\n",
    "    fitness_values = [fitness(individual) for individual in population]\n",
    "    selected_parents_indices = np.argsort(fitness_values)[-num_parents:]\n",
    "    return [population[i] for i in selected_parents_indices]\n",
    "\n",
    "def crossover(parents, offspring_size):\n",
    "    offspring = []\n",
    "    for _ in range(offspring_size):\n",
    "        parent1_idx, parent2_idx = np.random.choice(len(parents), size=2, replace=False)\n",
    "        parent1 = parents[parent1_idx]\n",
    "        parent2 = parents[parent2_idx]\n",
    "        crossover_point = np.random.randint(1, len(parent1))\n",
    "        child = np.vstack((parent1[:crossover_point], parent2[crossover_point:]))\n",
    "        offspring.append(child)\n",
    "    return offspring\n",
    "\n",
    "def mutate(offspring, mutation_rate):\n",
    "    for i in range(len(offspring)):\n",
    "        if np.random.random() < mutation_rate:\n",
    "            mutation_point = np.random.randint(0, len(offspring[i]))\n",
    "            offspring[i][mutation_point] = 1 - offspring[i][mutation_point]\n",
    "    return offspring\n",
    "\n",
    "def genetic_algorithm(pop_size, n, m, num_generations, num_parents, mutation_rate):\n",
    "    population = create_population(pop_size, n, m)\n",
    "    for generation in range(num_generations):\n",
    "        fitness_values = [fitness(individual) for individual in population]\n",
    "        parents = select_parents(population, num_parents)\n",
    "        offspring = crossover(parents, pop_size - num_parents)\n",
    "        offspring = mutate(offspring, mutation_rate)\n",
    "        population = parents + offspring\n",
    "        print(\"Génération {}: Meilleure fitness = {}\".format(generation+1, max(fitness_values)))\n",
    "    return population[np.argmax(fitness_values)]\n",
    "\n",
    "# Générer les candidats\n",
    "candidates = generate_candidates(num_candidates=50, num_features=num_features)\n",
    "\n",
    "\n",
    "# Exécution de l'algorithme génétique\n",
    "best_partition = genetic_algorithm(pop_size=100, n=4, m=4, num_generations=20, num_parents=20, mutation_rate=0.1)\n",
    "print(\"Meilleure partition trouvée :\")\n",
    "print(best_partition)\n"
   ]
  },
  {
   "cell_type": "markdown",
   "id": "b32eac85-57c5-4b35-8e6a-5782bfe70ee9",
   "metadata": {},
   "source": [
    "autre"
   ]
  },
  {
   "cell_type": "code",
   "execution_count": 24,
   "id": "38796499-ee7f-49bd-8f65-eb387f22bddc",
   "metadata": {},
   "outputs": [
    {
     "data": {
      "text/plain": [
       "[[1, 0.12, 1.0, 0.9],\n",
       " [2, 0.97, 0.0, 0.3],\n",
       " [3, 0.0, 0.64, 0.98],\n",
       " [4, 1.0, 0.45, 1.0],\n",
       " [5, 0.35, 0.07, 0.93],\n",
       " [6, 0.59, 0.84, 0.0]]"
      ]
     },
     "execution_count": 24,
     "metadata": {},
     "output_type": "execute_result"
    }
   ],
   "source": [
    "test =[[1, 0.12, 1.00, 0.90],\n",
    "[2, 0.97, 0.00, 0.30],\n",
    "[3, 0.00, 0.64, 0.98],\n",
    "[4, 1.00, 0.45, 1.00],\n",
    "[5, 0.35, 0.07, 0.93],\n",
    "[6, 0.59, 0.84, 0.00]]\n",
    "test"
   ]
  },
  {
   "cell_type": "code",
   "execution_count": 17,
   "id": "5fe03b27-af87-4bb0-9b47-2e9ea1d8d980",
   "metadata": {},
   "outputs": [
    {
     "data": {
      "text/plain": [
       "array([0.505, 0.5  , 0.685])"
      ]
     },
     "execution_count": 17,
     "metadata": {},
     "output_type": "execute_result"
    }
   ],
   "source": [
    "TM = np.mean(test,axis = 0)\n",
    "TM = TM[1:]"
   ]
  },
  {
   "cell_type": "code",
   "execution_count": 46,
   "id": "536f6d5c-7627-4949-8a58-22c79b2cbf9b",
   "metadata": {},
   "outputs": [],
   "source": [
    "g1 =[1,2,3]\n",
    "g2 = [4,5,6]\n",
    "res = []\n",
    "\n",
    "for t in test:\n",
    "    if t[0] in g1:\n",
    "        res.append(t)\n",
    "\n",
    "res\n",
    "\n",
    "x1b = np.mean(res,axis = 0)[1:]\n",
    "res = []\n",
    "for t in test:\n",
    "    if t[0] in g2:\n",
    "        res.append(t)\n",
    "\n",
    "x2b = np.mean(res,axis = 0)[1:]\n",
    "x2b\n",
    "\n",
    "D1=(x1b - TM[1:])**2\n",
    "D2=(x2b - TM[1:])**2"
   ]
  },
  {
   "cell_type": "code",
   "execution_count": 47,
   "id": "fd403b31-ca88-48fa-8e17-9362eee81328",
   "metadata": {},
   "outputs": [
    {
     "data": {
      "text/plain": [
       "0.047966666666666664"
      ]
     },
     "execution_count": 47,
     "metadata": {},
     "output_type": "execute_result"
    }
   ],
   "source": [
    "sum(D1+D2)"
   ]
  },
  {
   "cell_type": "code",
   "execution_count": null,
   "id": "103a1276-cae2-4279-847e-3485e0da4652",
   "metadata": {},
   "outputs": [],
   "source": []
  }
 ],
 "metadata": {
  "kernelspec": {
   "display_name": "Python 3 (ipykernel)",
   "language": "python",
   "name": "python3"
  },
  "language_info": {
   "codemirror_mode": {
    "name": "ipython",
    "version": 3
   },
   "file_extension": ".py",
   "mimetype": "text/x-python",
   "name": "python",
   "nbconvert_exporter": "python",
   "pygments_lexer": "ipython3",
   "version": "3.11.8"
  }
 },
 "nbformat": 4,
 "nbformat_minor": 5
}
